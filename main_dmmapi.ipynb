{
  "nbformat": 4,
  "nbformat_minor": 0,
  "metadata": {
    "colab": {
      "name": "main_dmmapi.ipynb",
      "provenance": [],
      "collapsed_sections": [],
      "authorship_tag": "ABX9TyObO0+bvliz2uN0Yi+ac2Tf",
      "include_colab_link": true
    },
    "kernelspec": {
      "display_name": "Python 3",
      "name": "python3"
    },
    "language_info": {
      "name": "python"
    }
  },
  "cells": [
    {
      "cell_type": "markdown",
      "metadata": {
        "id": "view-in-github",
        "colab_type": "text"
      },
      "source": [
        "<a href=\"https://colab.research.google.com/github/taka510408/kemomimichan/blob/main/main_dmmapi.ipynb\" target=\"_parent\"><img src=\"https://colab.research.google.com/assets/colab-badge.svg\" alt=\"Open In Colab\"/></a>"
      ]
    },
    {
      "cell_type": "code",
      "metadata": {
        "colab": {
          "base_uri": "https://localhost:8080/"
        },
        "id": "dKp44Hl3nPEb",
        "outputId": "caa30ee8-9a38-4987-f840-4ce166f8f475"
      },
      "source": [
        "pip install emoji"
      ],
      "execution_count": 1,
      "outputs": [
        {
          "output_type": "stream",
          "name": "stdout",
          "text": [
            "Collecting emoji\n",
            "  Downloading emoji-1.6.1.tar.gz (170 kB)\n",
            "\u001b[?25l\r\u001b[K     |██                              | 10 kB 14.3 MB/s eta 0:00:01\r\u001b[K     |███▉                            | 20 kB 5.1 MB/s eta 0:00:01\r\u001b[K     |█████▉                          | 30 kB 3.9 MB/s eta 0:00:01\r\u001b[K     |███████▊                        | 40 kB 3.7 MB/s eta 0:00:01\r\u001b[K     |█████████▋                      | 51 kB 1.8 MB/s eta 0:00:01\r\u001b[K     |███████████▋                    | 61 kB 2.0 MB/s eta 0:00:01\r\u001b[K     |█████████████▌                  | 71 kB 2.0 MB/s eta 0:00:01\r\u001b[K     |███████████████▍                | 81 kB 2.3 MB/s eta 0:00:01\r\u001b[K     |█████████████████▍              | 92 kB 2.4 MB/s eta 0:00:01\r\u001b[K     |███████████████████▎            | 102 kB 1.9 MB/s eta 0:00:01\r\u001b[K     |█████████████████████▏          | 112 kB 1.9 MB/s eta 0:00:01\r\u001b[K     |███████████████████████▏        | 122 kB 1.9 MB/s eta 0:00:01\r\u001b[K     |█████████████████████████       | 133 kB 1.9 MB/s eta 0:00:01\r\u001b[K     |███████████████████████████     | 143 kB 1.9 MB/s eta 0:00:01\r\u001b[K     |█████████████████████████████   | 153 kB 1.9 MB/s eta 0:00:01\r\u001b[K     |██████████████████████████████▉ | 163 kB 1.9 MB/s eta 0:00:01\r\u001b[K     |████████████████████████████████| 170 kB 1.9 MB/s \n",
            "\u001b[?25hBuilding wheels for collected packages: emoji\n",
            "  Building wheel for emoji (setup.py) ... \u001b[?25l\u001b[?25hdone\n",
            "  Created wheel for emoji: filename=emoji-1.6.1-py3-none-any.whl size=169314 sha256=3d33eb4d92bc09e94fd550028a0ef01fa9bc42afa896b628c40a401f9653c618\n",
            "  Stored in directory: /root/.cache/pip/wheels/ea/5f/d3/03d313ddb3c2a1a427bb4690f1621eea60fe6f2a30cc95940f\n",
            "Successfully built emoji\n",
            "Installing collected packages: emoji\n",
            "Successfully installed emoji-1.6.1\n"
          ]
        }
      ]
    },
    {
      "cell_type": "code",
      "metadata": {
        "id": "3IAkkZhsOccK"
      },
      "source": [
        "import requests\n",
        "import pprint\n",
        "import pytz\n",
        "import random\n",
        "import time\n",
        "import tweepy\n",
        "import pandas as pd\n",
        "from emoji import emojize\n",
        "from datetime import datetime, date, timedelta ,timezone"
      ],
      "execution_count": 2,
      "outputs": []
    },
    {
      "cell_type": "code",
      "metadata": {
        "id": "2CUJEX2g36Uj"
      },
      "source": [
        "keyword_list = [\n",
        "                'おねショタ',\n",
        "                '幼なじみ',\n",
        "                'パイズリ',\n",
        "                'ぽっちゃり',\n",
        "                '逆転無し',\n",
        "                '巨乳'\n",
        "]"
      ],
      "execution_count": 3,
      "outputs": []
    },
    {
      "cell_type": "code",
      "metadata": {
        "id": "0Hb7EQXRLWWf"
      },
      "source": [
        "#今日の日付を取得\n",
        "def get_today():\n",
        "  x = datetime.now()\n",
        "  x = x.replace(hour=0, minute=0, second=0, microsecond=0)\n",
        "  x = x.isoformat()\n",
        "  return x"
      ],
      "execution_count": 4,
      "outputs": []
    },
    {
      "cell_type": "code",
      "metadata": {
        "id": "OHO8LhNBCTZK"
      },
      "source": [
        " #パラメータの設定\n",
        " def def_params(b,c): \n",
        "  x = {\n",
        "      'api_id' : '3nuKcMTVfvtp5JzvfyGx',\n",
        "      'affiliate_id' : 'taka510408-990',\n",
        "      'site' : 'FANZA',\n",
        "      'service' : 'doujin',\n",
        "      'hits' : 3,\n",
        "      'keyword' : random.choice(b),\n",
        "      'sort' : 'rank',\n",
        "      'gte_date' : c\n",
        "  }\n",
        "  return x"
      ],
      "execution_count": 5,
      "outputs": []
    },
    {
      "cell_type": "code",
      "metadata": {
        "id": "KC8p1UMaRmL_"
      },
      "source": [
        "#情報取得\n",
        "def get_json(a):\n",
        "  url = 'https://api.dmm.com/affiliate/v3/ItemList'\n",
        "  response = requests.get(url,a)\n",
        "  x = response.json()\n",
        "  return x, url"
      ],
      "execution_count": 6,
      "outputs": []
    },
    {
      "cell_type": "code",
      "metadata": {
        "id": "I0Gv161HEMx1"
      },
      "source": [
        "#検索結果の判定\n",
        "def hit(a):\n",
        "  hit_count = a['result']['total_count']\n",
        "\n",
        "  if hit_count == 0:\n",
        "    return True\n",
        "  else:\n",
        "    return False"
      ],
      "execution_count": 7,
      "outputs": []
    },
    {
      "cell_type": "code",
      "metadata": {
        "id": "kKg2oajI_TKO"
      },
      "source": [
        "#ヒット数0の時、データ再取得\n",
        "def jugde(a, b, c, d):\n",
        "  x = a\n",
        "  y = d\n",
        "  if hit(a) == True:\n",
        "      y['keyword'] = random.choice(b)\n",
        "      response = requests.get(c, y)\n",
        "      x = response.json()\n",
        "\n",
        "      while hit(x) == True:\n",
        "        y['keyword'] = random.choice(b)\n",
        "        response = requests.get(c, y)\n",
        "        x = response.json()\n",
        "      else:\n",
        "        print('検索結果取得できました')\n",
        "#        break\n",
        "  else:\n",
        "      print('検索結果取得できました')\n",
        "    \n",
        "  return x, y"
      ],
      "execution_count": 8,
      "outputs": []
    },
    {
      "cell_type": "code",
      "metadata": {
        "id": "HwvZaFMfL0zC"
      },
      "source": [
        "#作品情報を取得後DFに格納\n",
        "def in_df(a):\n",
        "  i = 0\n",
        "  dou_info = a['result']['items']\n",
        "\n",
        "  item_name = []\n",
        "  url_list = []\n",
        "  curcle_name = []\n",
        "\n",
        "  for i in range(len(dou_info)):\n",
        "    dou_title = a['result']['items'][i]['title']\n",
        "    item_name.append(dou_title)\n",
        "\n",
        "    dou_afurl = a['result']['items'][i]['affiliateURL']\n",
        "    #dou_afurl = s.tinyurl.short(dou_afurl)\n",
        "    url_list.append(dou_afurl)\n",
        "\n",
        "    #dou_image = a['result']['items'][i]['imageURL']['large']\n",
        "    \n",
        "    dou_maker = a['result']['items'][i]['iteminfo']['maker'][0]['name']\n",
        "    curcle_name.append(dou_maker)\n",
        "\n",
        "    #print(\"タイトル:\" + dou_title)\n",
        "    #print(\"URL:\" + dou_afurl)\n",
        "    #print(\"画像:\" + dou_image)\n",
        "    #print(\"サークル名:\" + dou_maker)\n",
        "\n",
        "  df = pd.DataFrame([item_name, url_list, curcle_name])\n",
        "  df.T\n",
        "  return df\n"
      ],
      "execution_count": 9,
      "outputs": []
    },
    {
      "cell_type": "code",
      "metadata": {
        "id": "6An49xefUt-O"
      },
      "source": [
        "def select_ps(a):\n",
        "  x = [\n",
        "            'チェックしてみてはいかがかな？',\n",
        "            'オヌシが気に入ってくれたら嬉しいのぉ'+ emojize(\":relaxed:\",use_aliases = True),\n",
        "            '今晩のおかずは決まりじゃな！'+ emojize(\":meat_on_bone:\",use_aliases = True),\n",
        "            'これはシコれそうじゃ…'+ emojize(\":smirk:\",use_aliases = True),\n",
        "            'これめっちゃ気になるんよのぉ'+ emojize(\":tired_face:\",use_aliases = True),\n",
        "            'これはスケベな予感…'+ emojize(\":heart_eyes:\",use_aliases = True),\n",
        "            'ワシの性癖にストライクじゃ！'+ emojize(\":heart:\",use_aliases = True)\n",
        "  ]\n",
        "\n",
        "  if a['keyword'] == 'おねショタ':\n",
        "    x.extend([\n",
        "                  'やっぱりおねショタは最高じゃ' + emojize(\":innocent:\",use_aliases = True),\n",
        "                  '今晩はお姉さんに癒されてみないか？'\n",
        "                  'おねショタ好きにはたまらんぞ！'+ emojize(\":heart_eyes:\",use_aliases = True), \n",
        "    ])\n",
        "  elif a['keyword'] == '幼なじみ':\n",
        "    x.extend([\n",
        "                  'ワシもこんな幼なじみが欲しかった…'+ emojize(\":joy:\",use_aliases = True),\n",
        "                  '幼なじみは無条件で買いじゃ…',\n",
        "                  '幼なじみは昔から知ってるからこそ、興奮するもんじゃよ'+ emojize(\":yum:\",use_aliases = True)\n",
        "    ])\n",
        "  elif a['keyword'] == \"ぽっちゃり\":\n",
        "    x.extend([\n",
        "                  '正直このくらいの体型が好みじゃ' + emojize(\":yum:\",use_aliases = True),\n",
        "                  'ムチムチぐらいがちょうどええぞ'+ emojize(\":innocent:\",use_aliases = True),\n",
        "                  'ドスケベボディすぎる…' + emojize(\":innocent:\",use_aliases = True),\n",
        "                  '体型がわがまま過ぎる！だがそれがよい！',\n",
        "                  '駄目じゃ！キン〇マが急ピッチで精子作り始めたぞ！'\n",
        "    ])\n",
        "  elif a['keyword'] == \"パイズリ\":\n",
        "    x.extend([\n",
        "                  'パイズリ好きなら買って損はないぞ？'+ emojize(\":relaxed:\",use_aliases = True),\n",
        "                  'パイズリシーンは必見じゃぞ！'+ emojize(\":kissing_heart:\",use_aliases = True),\n",
        "                  'おっぱい好きにはたまらんのぉ'+ emojize(\":yum:\",use_aliases = True),\n",
        "    ])\n",
        "  elif a['keyword'] == \"逆転無し\":\n",
        "    x.extend([\n",
        "                  '安心してくれ！攻めが逆転することは無いぞ！',\n",
        "                  '一方的に攻められるぞ！だがそれがよい！'+ emojize(\":yum:\",use_aliases = True)\n",
        "    ])\n",
        "\n",
        "  return x"
      ],
      "execution_count": 10,
      "outputs": []
    },
    {
      "cell_type": "code",
      "metadata": {
        "id": "YU2eD2eEeVl2"
      },
      "source": [
        "#def login_tw():\n",
        "#  api_key = \"eGhBLU4Sq8TklPEsHNN4i2fhX\"\n",
        "#  api_key_secret = \"A4zAtOZjfVzU2LUCW2Fkryls6FEGZgQpectJfYIUcycJfwe2Pm\"\n",
        "#  access_token= \"958668185397374977-puynN8usr5jwLjP9kWnZnZs6m0woBUu\"\n",
        "#  access_token_secret = \"lt5aWCMuiIdEvGljTPJBmyvzyGSBtXRjFqqKNUTBD8r07\"\n",
        "\n",
        "#  auth = tweepy.OAuthHandler(api_key, api_key_secret)\n",
        "#  auth.set_access_token(access_token, access_token_secret)\n",
        "#  api = tweepy.API(auth)"
      ],
      "execution_count": 11,
      "outputs": []
    },
    {
      "cell_type": "code",
      "metadata": {
        "id": "J4IhmZKTBZ9_"
      },
      "source": [
        "def tw_update(a, b, c):\n",
        "  \n",
        "  api_key = \"eGhBLU4Sq8TklPEsHNN4i2fhX\"\n",
        "  api_key_secret = \"A4zAtOZjfVzU2LUCW2Fkryls6FEGZgQpectJfYIUcycJfwe2Pm\"\n",
        "  access_token= \"958668185397374977-puynN8usr5jwLjP9kWnZnZs6m0woBUu\"\n",
        "  access_token_secret = \"lt5aWCMuiIdEvGljTPJBmyvzyGSBtXRjFqqKNUTBD8r07\"\n",
        "\n",
        "  auth = tweepy.OAuthHandler(api_key, api_key_secret)\n",
        "  auth.set_access_token(access_token, access_token_secret)\n",
        "  api = tweepy.API(auth)\n",
        "\n",
        "  j = 0\n",
        "  select_phrase = random.choice(a)\n",
        "  for j in range(len(b)):\n",
        "    \n",
        "    api.update_status(f\"今日発売の人気作品をピックアップしたぞ！\\n{select_phrase}\\n\\nタイトル:\" + c.iloc[0][j] + \"\\nサークル名：\" + c.iloc[2][j] + \"\\n\" + c.iloc[1][j])\n",
        "#    print(f\"今日発売の人気作品をピックアップしたぞ！\\n{select_phrase}\\n\\nタイトル:\" + c.iloc[0][j] + \"\\nサークル名：\" + c.iloc[2][j] + \"\\n\" + c.iloc[1][j])\n",
        "    select_phrase = random.choice(a)\n",
        "    time.sleep(60)"
      ],
      "execution_count": 12,
      "outputs": []
    },
    {
      "cell_type": "code",
      "metadata": {
        "id": "x6K2NtUI8cbH"
      },
      "source": [
        "def main():\n",
        "  today = get_today()\n",
        "  params = def_params(keyword_list,today)\n",
        "  data = get_json(params)\n",
        "  jsondata = data[0]\n",
        "  url = data[1]\n",
        "\n",
        "  data = jugde(jsondata, keyword_list, url, params)\n",
        "  jsondata = data[0]\n",
        "  params = data[1]\n",
        "\n",
        "  worklist = in_df(jsondata)\n",
        "  dou_info = jsondata['result']['items']\n",
        "\n",
        "  phrase = select_ps(params)\n",
        "\n",
        "#  login_tw()\n",
        "  tw_update(phrase, dou_info, worklist)"
      ],
      "execution_count": 13,
      "outputs": []
    },
    {
      "cell_type": "code",
      "metadata": {
        "colab": {
          "base_uri": "https://localhost:8080/"
        },
        "id": "u4Q49DGU8pUV",
        "outputId": "337c9af1-4f32-4475-d97f-765c9dec7ce5"
      },
      "source": [
        "if __name__ == '__main__':\n",
        "  main()"
      ],
      "execution_count": 14,
      "outputs": [
        {
          "output_type": "stream",
          "name": "stdout",
          "text": [
            "検索結果取得できました\n"
          ]
        }
      ]
    }
  ]
}